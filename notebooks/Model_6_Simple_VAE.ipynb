{
  "nbformat": 4,
  "nbformat_minor": 0,
  "metadata": {
    "colab": {
      "name": "Model_6_Simple_VAE.ipynb",
      "version": "0.3.2",
      "provenance": [],
      "collapsed_sections": []
    },
    "kernelspec": {
      "name": "python3",
      "display_name": "Python 3"
    },
    "accelerator": "GPU"
  },
  "cells": [
    {
      "cell_type": "code",
      "metadata": {
        "id": "rmDTpnGCFOvv",
        "colab_type": "code",
        "outputId": "e962e558-6a42-4cf5-f32d-305b5051821b",
        "colab": {
          "base_uri": "https://localhost:8080/",
          "height": 34
        }
      },
      "source": [
        "from __future__ import absolute_import\n",
        "from __future__ import division\n",
        "from __future__ import print_function\n",
        "\n",
        "import tensorflow as tf\n",
        "from keras.layers import Lambda, Input, Dense\n",
        "from keras.models import Model\n",
        "from keras.datasets import cifar10\n",
        "from keras.losses import mse\n",
        "from keras.utils import plot_model\n",
        "from keras import backend as K\n",
        "\n",
        "import numpy as np\n",
        "import matplotlib.pyplot as plt\n",
        "import argparse\n",
        "import os"
      ],
      "execution_count": 0,
      "outputs": [
        {
          "output_type": "stream",
          "text": [
            "Using TensorFlow backend.\n"
          ],
          "name": "stderr"
        }
      ]
    },
    {
      "cell_type": "code",
      "metadata": {
        "id": "F7UWIdc3Utl3",
        "colab_type": "code",
        "colab": {}
      },
      "source": [
        "# reparameterization trick\n",
        "# instead of sampling from Q(z|X), sample eps = N(0,I)\n",
        "# z = z_mean + sqrt(var)*eps\n",
        "def sampling(args):\n",
        "    \"\"\"Reparameterization trick by sampling fr an isotropic unit Gaussian.\n",
        "\n",
        "    # Arguments\n",
        "        args (tensor): mean and log of variance of Q(z|X)\n",
        "\n",
        "    # Returns\n",
        "        z (tensor): sampled latent vector\n",
        "    \"\"\"\n",
        "\n",
        "    z_mean, z_log_var = args\n",
        "    batch = K.shape(z_mean)[0]\n",
        "    dim = K.int_shape(z_mean)[1]\n",
        "    # by default, random_normal has mean=0 and std=1.0\n",
        "    epsilon = K.random_normal(shape=(batch, dim))\n",
        "    \n",
        "    return z_mean + K.exp(0.5 * z_log_var) * epsilon"
      ],
      "execution_count": 0,
      "outputs": []
    },
    {
      "cell_type": "code",
      "metadata": {
        "id": "Bt5DRX5HYh4T",
        "colab_type": "code",
        "colab": {}
      },
      "source": [
        "def comp_vae_loss(inputs,outputs):\n",
        "    # VAE loss = mse_loss\n",
        "    reconstruction_loss = mse(inputs, outputs)\n",
        "    reconstruction_loss *= original_dim\n",
        "    kl_loss = 1 + z_log_var - K.square(z_mean) - K.exp(z_log_var)\n",
        "    kl_loss = K.sum(kl_loss, axis=-1)\n",
        "    kl_loss *= -0.5\n",
        "    vae_loss = K.mean(reconstruction_loss + kl_loss)\n",
        "\n",
        "    return vae_loss"
      ],
      "execution_count": 0,
      "outputs": []
    },
    {
      "cell_type": "code",
      "metadata": {
        "id": "oOgwAHpWU1G9",
        "colab_type": "code",
        "outputId": "62c524f5-2d1e-46bd-b516-be6903aaaf85",
        "colab": {
          "base_uri": "https://localhost:8080/",
          "height": 51
        }
      },
      "source": [
        "# cifar10 dataset\n",
        "(x_train, y_train), (x_test, y_test) = cifar10.load_data()\n",
        "\n",
        "original_dim = 32 * 32 * 3\n",
        "x_train = np.reshape(x_train, [-1, original_dim])\n",
        "x_test = np.reshape(x_test, [-1, original_dim])\n",
        "x_train = x_train.astype('float32') / 255\n",
        "x_test = x_test.astype('float32') / 255\n",
        "\n",
        "# network parameters\n",
        "input_shape = (original_dim, )\n",
        "hid_layer1 = 768\n",
        "hid_layer2 = 192\n",
        "hid_layer3 = 48\n",
        "hid_layer4 = 12\n",
        "latent_dim = 2\n",
        "\n",
        "batch_size = 128\n",
        "epochs = 50"
      ],
      "execution_count": 0,
      "outputs": [
        {
          "output_type": "stream",
          "text": [
            "Downloading data from https://www.cs.toronto.edu/~kriz/cifar-10-python.tar.gz\n",
            "170500096/170498071 [==============================] - 6s 0us/step\n"
          ],
          "name": "stdout"
        }
      ]
    },
    {
      "cell_type": "code",
      "metadata": {
        "id": "8bQcstF-VWCX",
        "colab_type": "code",
        "outputId": "dff71597-cbce-4c9e-b2e7-410bca6ccd3d",
        "colab": {
          "base_uri": "https://localhost:8080/",
          "height": 34
        }
      },
      "source": [
        "x_train.shape, x_test.shape"
      ],
      "execution_count": 0,
      "outputs": [
        {
          "output_type": "execute_result",
          "data": {
            "text/plain": [
              "((50000, 3072), (10000, 3072))"
            ]
          },
          "metadata": {
            "tags": []
          },
          "execution_count": 5
        }
      ]
    },
    {
      "cell_type": "code",
      "metadata": {
        "id": "PgtL2lGzU5I1",
        "colab_type": "code",
        "outputId": "b6f54449-8a17-4395-acf7-6d161b92075e",
        "colab": {
          "base_uri": "https://localhost:8080/",
          "height": 564
        }
      },
      "source": [
        "# VAE model = encoder + decoder\n",
        "# build encoder model\n",
        "inputs = Input(shape=input_shape, name='encoder_input')\n",
        "x = Dense(hid_layer1, activation='relu')(inputs)\n",
        "x = Dense(hid_layer2, activation = 'relu')(x)\n",
        "x = Dense(hid_layer3, activation = 'relu')(x)\n",
        "x = Dense(hid_layer4, activation = 'relu')(x)\n",
        "\n",
        "z_mean = Dense(latent_dim, name='z_mean')(x)\n",
        "z_log_var = Dense(latent_dim, name='z_log_var')(x)\n",
        "\n",
        "# use reparameterization trick to push the sampling out as input\n",
        "# note that \"output_shape\" isn't necessary with the TensorFlow backend\n",
        "z = Lambda(sampling, name='z')([z_mean, z_log_var])\n",
        "\n",
        "# instantiate encoder model\n",
        "encoder = Model(inputs, [z_mean, z_log_var, z], name='encoder')\n",
        "encoder.summary()\n",
        "plot_model(encoder, to_file='vae_mlp_encoder.png', show_shapes=True)"
      ],
      "execution_count": 0,
      "outputs": [
        {
          "output_type": "stream",
          "text": [
            "WARNING: Logging before flag parsing goes to stderr.\n",
            "W0718 06:21:02.187663 140350493734784 deprecation_wrapper.py:119] From /usr/local/lib/python3.6/dist-packages/keras/backend/tensorflow_backend.py:517: The name tf.placeholder is deprecated. Please use tf.compat.v1.placeholder instead.\n",
            "\n",
            "W0718 06:21:02.246074 140350493734784 deprecation_wrapper.py:119] From /usr/local/lib/python3.6/dist-packages/keras/backend/tensorflow_backend.py:74: The name tf.get_default_graph is deprecated. Please use tf.compat.v1.get_default_graph instead.\n",
            "\n",
            "W0718 06:21:02.249794 140350493734784 deprecation_wrapper.py:119] From /usr/local/lib/python3.6/dist-packages/keras/backend/tensorflow_backend.py:4138: The name tf.random_uniform is deprecated. Please use tf.random.uniform instead.\n",
            "\n",
            "W0718 06:21:02.332605 140350493734784 deprecation_wrapper.py:119] From /usr/local/lib/python3.6/dist-packages/keras/backend/tensorflow_backend.py:4115: The name tf.random_normal is deprecated. Please use tf.random.normal instead.\n",
            "\n"
          ],
          "name": "stderr"
        },
        {
          "output_type": "stream",
          "text": [
            "__________________________________________________________________________________________________\n",
            "Layer (type)                    Output Shape         Param #     Connected to                     \n",
            "==================================================================================================\n",
            "encoder_input (InputLayer)      (None, 3072)         0                                            \n",
            "__________________________________________________________________________________________________\n",
            "dense_1 (Dense)                 (None, 768)          2360064     encoder_input[0][0]              \n",
            "__________________________________________________________________________________________________\n",
            "dense_2 (Dense)                 (None, 192)          147648      dense_1[0][0]                    \n",
            "__________________________________________________________________________________________________\n",
            "dense_3 (Dense)                 (None, 48)           9264        dense_2[0][0]                    \n",
            "__________________________________________________________________________________________________\n",
            "z_mean (Dense)                  (None, 10)           490         dense_3[0][0]                    \n",
            "__________________________________________________________________________________________________\n",
            "z_log_var (Dense)               (None, 10)           490         dense_3[0][0]                    \n",
            "__________________________________________________________________________________________________\n",
            "z (Lambda)                      (None, 10)           0           z_mean[0][0]                     \n",
            "                                                                 z_log_var[0][0]                  \n",
            "==================================================================================================\n",
            "Total params: 2,517,956\n",
            "Trainable params: 2,517,956\n",
            "Non-trainable params: 0\n",
            "__________________________________________________________________________________________________\n"
          ],
          "name": "stdout"
        }
      ]
    },
    {
      "cell_type": "code",
      "metadata": {
        "id": "ArJ-wVsbU9OK",
        "colab_type": "code",
        "outputId": "34342b87-c04e-444d-ec53-83a023413f7e",
        "colab": {
          "base_uri": "https://localhost:8080/",
          "height": 306
        }
      },
      "source": [
        "# build decoder model\n",
        "latent_inputs = Input(shape=(latent_dim,), name='z_sampling')\n",
        "x = Dense(hid_layer4, activation='relu')(latent_inputs)\n",
        "x = Dense(hid_layer3, activation='relu')(x)\n",
        "x = Dense(hid_layer2, activation='relu')(x)\n",
        "x = Dense(hid_layer1, activation='relu')(x)\n",
        "outputs = Dense(original_dim, activation='sigmoid')(x)\n",
        "\n",
        "# instantiate decoder model\n",
        "decoder = Model(latent_inputs, outputs, name='decoder')\n",
        "decoder.summary()\n",
        "plot_model(decoder, to_file='vae_mlp_decoder.png', show_shapes=True)"
      ],
      "execution_count": 0,
      "outputs": [
        {
          "output_type": "stream",
          "text": [
            "_________________________________________________________________\n",
            "Layer (type)                 Output Shape              Param #   \n",
            "=================================================================\n",
            "z_sampling (InputLayer)      (None, 10)                0         \n",
            "_________________________________________________________________\n",
            "dense_4 (Dense)              (None, 48)                528       \n",
            "_________________________________________________________________\n",
            "dense_5 (Dense)              (None, 192)               9408      \n",
            "_________________________________________________________________\n",
            "dense_6 (Dense)              (None, 768)               148224    \n",
            "_________________________________________________________________\n",
            "dense_7 (Dense)              (None, 3072)              2362368   \n",
            "=================================================================\n",
            "Total params: 2,520,528\n",
            "Trainable params: 2,520,528\n",
            "Non-trainable params: 0\n",
            "_________________________________________________________________\n"
          ],
          "name": "stdout"
        }
      ]
    },
    {
      "cell_type": "code",
      "metadata": {
        "id": "362QnPUlU_gd",
        "colab_type": "code",
        "colab": {}
      },
      "source": [
        "# instantiate VAE model\n",
        "outputs = decoder(encoder(inputs)[2])\n",
        "vae = Model(inputs, outputs, name='vae_mlp')"
      ],
      "execution_count": 0,
      "outputs": []
    },
    {
      "cell_type": "code",
      "metadata": {
        "id": "Jrxo3ykqWJK8",
        "colab_type": "code",
        "outputId": "ec4050ce-b965-4303-afbc-10b75422959f",
        "colab": {
          "base_uri": "https://localhost:8080/",
          "height": 292
        }
      },
      "source": [
        "vae_loss = comp_vae_loss(inputs,outputs)\n",
        "vae.add_loss(vae_loss)\n",
        "vae.compile(optimizer='Adam')\n",
        "\n",
        "vae.summary()\n",
        "plot_model(vae, to_file='vae_mlp.png', show_shapes=True)"
      ],
      "execution_count": 0,
      "outputs": [
        {
          "output_type": "stream",
          "text": [
            "W0718 06:21:12.462645 140350493734784 deprecation_wrapper.py:119] From /usr/local/lib/python3.6/dist-packages/keras/optimizers.py:790: The name tf.train.Optimizer is deprecated. Please use tf.compat.v1.train.Optimizer instead.\n",
            "\n"
          ],
          "name": "stderr"
        },
        {
          "output_type": "stream",
          "text": [
            "_________________________________________________________________\n",
            "Layer (type)                 Output Shape              Param #   \n",
            "=================================================================\n",
            "encoder_input (InputLayer)   (None, 3072)              0         \n",
            "_________________________________________________________________\n",
            "encoder (Model)              [(None, 10), (None, 10),  2517956   \n",
            "_________________________________________________________________\n",
            "decoder (Model)              (None, 3072)              2520528   \n",
            "=================================================================\n",
            "Total params: 5,038,484\n",
            "Trainable params: 5,038,484\n",
            "Non-trainable params: 0\n",
            "_________________________________________________________________\n"
          ],
          "name": "stdout"
        }
      ]
    },
    {
      "cell_type": "code",
      "metadata": {
        "id": "veq58gA9WX5p",
        "colab_type": "code",
        "outputId": "1ce56328-4418-46eb-d750-269d6852a36b",
        "colab": {
          "base_uri": "https://localhost:8080/",
          "height": 1000
        }
      },
      "source": [
        "# train the autoencoder\n",
        "history = vae.fit(x_train, epochs=epochs, batch_size=batch_size, validation_data=(x_test, None))\n",
        "vae.save_weights('imageVAE.h5')"
      ],
      "execution_count": 0,
      "outputs": [
        {
          "output_type": "stream",
          "text": [
            "W0718 06:21:18.058242 140350493734784 deprecation_wrapper.py:119] From /usr/local/lib/python3.6/dist-packages/keras/backend/tensorflow_backend.py:986: The name tf.assign_add is deprecated. Please use tf.compat.v1.assign_add instead.\n",
            "\n"
          ],
          "name": "stderr"
        },
        {
          "output_type": "stream",
          "text": [
            "Train on 50000 samples, validate on 10000 samples\n",
            "Epoch 1/50\n",
            "50000/50000 [==============================] - 10s 207us/step - loss: 138.4541 - val_loss: 124.5875\n",
            "Epoch 2/50\n",
            "50000/50000 [==============================] - 6s 116us/step - loss: 122.8446 - val_loss: 121.3332\n",
            "Epoch 3/50\n",
            "50000/50000 [==============================] - 6s 115us/step - loss: 112.6565 - val_loss: 109.9268\n",
            "Epoch 4/50\n",
            "50000/50000 [==============================] - 6s 115us/step - loss: 109.7943 - val_loss: 109.9270\n",
            "Epoch 5/50\n",
            "50000/50000 [==============================] - 6s 116us/step - loss: 106.4187 - val_loss: 104.5747\n",
            "Epoch 6/50\n",
            "50000/50000 [==============================] - 6s 116us/step - loss: 104.2321 - val_loss: 103.4120\n",
            "Epoch 7/50\n",
            "50000/50000 [==============================] - 6s 116us/step - loss: 103.3229 - val_loss: 102.6639\n",
            "Epoch 8/50\n",
            "50000/50000 [==============================] - 6s 117us/step - loss: 102.4250 - val_loss: 102.3186\n",
            "Epoch 9/50\n",
            "50000/50000 [==============================] - 6s 115us/step - loss: 101.7201 - val_loss: 101.2960\n",
            "Epoch 10/50\n",
            "50000/50000 [==============================] - 6s 116us/step - loss: 101.2550 - val_loss: 100.7772\n",
            "Epoch 11/50\n",
            "50000/50000 [==============================] - 6s 115us/step - loss: 100.8617 - val_loss: 100.6745\n",
            "Epoch 12/50\n",
            "50000/50000 [==============================] - 6s 116us/step - loss: 100.5320 - val_loss: 100.7466\n",
            "Epoch 13/50\n",
            "50000/50000 [==============================] - 6s 116us/step - loss: 100.2042 - val_loss: 99.9764\n",
            "Epoch 14/50\n",
            "50000/50000 [==============================] - 6s 115us/step - loss: 99.7040 - val_loss: 99.7646\n",
            "Epoch 15/50\n",
            "50000/50000 [==============================] - 6s 115us/step - loss: 99.4745 - val_loss: 99.3139\n",
            "Epoch 16/50\n",
            "50000/50000 [==============================] - 6s 116us/step - loss: 99.1997 - val_loss: 99.9896\n",
            "Epoch 17/50\n",
            "50000/50000 [==============================] - 6s 116us/step - loss: 99.0324 - val_loss: 99.9425\n",
            "Epoch 18/50\n",
            "50000/50000 [==============================] - 6s 116us/step - loss: 97.6840 - val_loss: 96.9858\n",
            "Epoch 19/50\n",
            "50000/50000 [==============================] - 6s 116us/step - loss: 96.0058 - val_loss: 95.8921\n",
            "Epoch 20/50\n",
            "50000/50000 [==============================] - 6s 113us/step - loss: 95.2804 - val_loss: 95.3826\n",
            "Epoch 21/50\n",
            "50000/50000 [==============================] - 6s 115us/step - loss: 94.6907 - val_loss: 94.7743\n",
            "Epoch 22/50\n",
            "50000/50000 [==============================] - 6s 116us/step - loss: 94.4025 - val_loss: 94.8081\n",
            "Epoch 23/50\n",
            "50000/50000 [==============================] - 6s 115us/step - loss: 94.1490 - val_loss: 94.9334\n",
            "Epoch 24/50\n",
            "50000/50000 [==============================] - 6s 116us/step - loss: 93.8938 - val_loss: 94.2109\n",
            "Epoch 25/50\n",
            "50000/50000 [==============================] - 6s 116us/step - loss: 93.7459 - val_loss: 94.6602\n",
            "Epoch 26/50\n",
            "50000/50000 [==============================] - 6s 116us/step - loss: 93.5574 - val_loss: 93.9951\n",
            "Epoch 27/50\n",
            "50000/50000 [==============================] - 6s 117us/step - loss: 93.5162 - val_loss: 94.1060\n",
            "Epoch 28/50\n",
            "50000/50000 [==============================] - 6s 116us/step - loss: 93.2721 - val_loss: 93.9113\n",
            "Epoch 29/50\n",
            "50000/50000 [==============================] - 6s 116us/step - loss: 93.2074 - val_loss: 93.8259\n",
            "Epoch 30/50\n",
            "50000/50000 [==============================] - 6s 115us/step - loss: 92.9939 - val_loss: 94.1907\n",
            "Epoch 31/50\n",
            "50000/50000 [==============================] - 6s 115us/step - loss: 92.9034 - val_loss: 93.6652\n",
            "Epoch 32/50\n",
            "50000/50000 [==============================] - 6s 116us/step - loss: 92.7881 - val_loss: 93.5521\n",
            "Epoch 33/50\n",
            "50000/50000 [==============================] - 6s 115us/step - loss: 92.6667 - val_loss: 93.6903\n",
            "Epoch 34/50\n",
            "50000/50000 [==============================] - 6s 115us/step - loss: 92.5336 - val_loss: 93.5876\n",
            "Epoch 35/50\n",
            "50000/50000 [==============================] - 6s 115us/step - loss: 92.4628 - val_loss: 93.4985\n",
            "Epoch 36/50\n",
            "50000/50000 [==============================] - 6s 115us/step - loss: 92.3285 - val_loss: 93.2105\n",
            "Epoch 37/50\n",
            "50000/50000 [==============================] - 6s 115us/step - loss: 92.1962 - val_loss: 93.3993\n",
            "Epoch 38/50\n",
            "50000/50000 [==============================] - 6s 116us/step - loss: 92.1412 - val_loss: 93.4252\n",
            "Epoch 39/50\n",
            "50000/50000 [==============================] - 6s 115us/step - loss: 92.0487 - val_loss: 93.4808\n",
            "Epoch 40/50\n",
            "50000/50000 [==============================] - 6s 115us/step - loss: 91.9981 - val_loss: 93.3923\n",
            "Epoch 41/50\n",
            "50000/50000 [==============================] - 6s 116us/step - loss: 91.8965 - val_loss: 92.9929\n",
            "Epoch 42/50\n",
            "50000/50000 [==============================] - 6s 116us/step - loss: 91.8195 - val_loss: 93.0038\n",
            "Epoch 43/50\n",
            "50000/50000 [==============================] - 6s 116us/step - loss: 91.6200 - val_loss: 93.1395\n",
            "Epoch 44/50\n",
            "50000/50000 [==============================] - 6s 115us/step - loss: 91.1227 - val_loss: 91.6471\n",
            "Epoch 45/50\n",
            "50000/50000 [==============================] - 6s 116us/step - loss: 90.0905 - val_loss: 91.3451\n",
            "Epoch 46/50\n",
            "50000/50000 [==============================] - 6s 119us/step - loss: 89.6605 - val_loss: 91.0937\n",
            "Epoch 47/50\n",
            "50000/50000 [==============================] - 6s 117us/step - loss: 89.4782 - val_loss: 90.6877\n",
            "Epoch 48/50\n",
            "50000/50000 [==============================] - 6s 115us/step - loss: 89.2882 - val_loss: 90.6989\n",
            "Epoch 49/50\n",
            "50000/50000 [==============================] - 6s 117us/step - loss: 89.1262 - val_loss: 90.5932\n",
            "Epoch 50/50\n",
            "50000/50000 [==============================] - 6s 117us/step - loss: 88.9668 - val_loss: 90.5736\n"
          ],
          "name": "stdout"
        }
      ]
    },
    {
      "cell_type": "code",
      "metadata": {
        "id": "z-l6WDn0a49C",
        "colab_type": "code",
        "outputId": "ce54abd0-042d-49de-840c-a5561d678e03",
        "colab": {
          "base_uri": "https://localhost:8080/",
          "height": 312
        }
      },
      "source": [
        "# list all data in history\n",
        "print(history.history.keys())\n",
        "# summarize history for loss\n",
        "plt.plot(history.history['loss'])\n",
        "plt.plot(history.history['val_loss'])\n",
        "plt.title('model loss')\n",
        "plt.ylabel('loss')\n",
        "plt.xlabel('epoch')\n",
        "plt.legend(['train', 'test'], loc='upper left')\n",
        "plt.show()"
      ],
      "execution_count": 0,
      "outputs": [
        {
          "output_type": "stream",
          "text": [
            "dict_keys(['val_loss', 'loss'])\n"
          ],
          "name": "stdout"
        },
        {
          "output_type": "display_data",
          "data": {
            "image/png": "[encoded data removed]",
            "text/plain": [
              "<Figure size 432x288 with 1 Axes>"
            ]
          },
          "metadata": {
            "tags": []
          }
        }
      ]
    },
    {
      "cell_type": "code",
      "metadata": {
        "id": "k0Qt_PMUWkUN",
        "colab_type": "code",
        "outputId": "15bedf79-0b25-4b2a-d57e-89adefdc4053",
        "colab": {
          "base_uri": "https://localhost:8080/",
          "height": 490
        }
      },
      "source": [
        "# Sanity Check\n",
        "z_mean, z_log_var, z_val = encoder.predict(x_test, batch_size=batch_size)\n",
        "\n",
        "print(x_test.shape, y_test.shape, z_mean.shape)\n",
        "for i in range(2):\n",
        "  print(np.max(z_mean[:,i]), np.min(z_mean[:,i]))\n",
        "\n",
        "import random\n",
        "# Method 1\n",
        "i = 2\n",
        "# z_sample = np.array([z_val[i,0], z_val[i,1], z_val[i,2], z_val[i,3], z_val[i,4], z_val[i,5], z_val[i,6], z_val[i,7], z_val[i,8], z_val[i,9]])\n",
        "z_sample = np.array([z_val[i,0], z_val[i,1]])\n",
        "z_sample = np.reshape(z_sample,(1,2))\n",
        "\n",
        "# Method 2\n",
        "# grid1 = np.linspace(np.min(z_mean[:,0]),np.max(z_mean[:,0]),10)\n",
        "# grid2 = np.linspace(np.min(z_mean[:,0]),np.max(z_mean[:,0]),10)\n",
        "\n",
        "# z_sample = np.array([[np.random]])\n",
        "\n",
        "\n",
        "x_decoded = decoder.predict(z_sample)\n",
        "print(x_decoded.shape)\n",
        "plt.imshow(x_decoded.reshape(32,32,3))"
      ],
      "execution_count": 0,
      "outputs": [
        {
          "output_type": "stream",
          "text": [
            "(10000, 3072) (10000, 1) (10000, 10)\n",
            "0.14936982 -0.13201192\n",
            "0.13066591 -0.2501865\n",
            "0.04889369 -0.3027563\n",
            "0.04834646 -0.10358516\n",
            "4.0234747 -4.065113\n",
            "2.9116058 -2.892383\n",
            "3.3455615 -4.5324564\n",
            "3.85204 -3.2024786\n",
            "3.875391 -5.9551435\n",
            "4.1354384 -4.8796396\n",
            "(1, 3072)\n"
          ],
          "name": "stdout"
        },
        {
          "output_type": "execute_result",
          "data": {
            "text/plain": [
              "<matplotlib.image.AxesImage at 0x7fa54c07e748>"
            ]
          },
          "metadata": {
            "tags": []
          },
          "execution_count": 46
        },
        {
          "output_type": "display_data",
          "data": {
            "image/png": "[encoded data removed]",
            "text/plain": [
              "<Figure size 432x288 with 1 Axes>"
            ]
          },
          "metadata": {
            "tags": []
          }
        }
      ]
    },
    {
      "cell_type": "code",
      "metadata": {
        "id": "R-OgPBG0xMyQ",
        "colab_type": "code",
        "outputId": "dfb639e6-6ab7-426e-f14c-abd6233cff05",
        "colab": {
          "base_uri": "https://localhost:8080/",
          "height": 34
        }
      },
      "source": [
        "np.min(z_log_var), np.max(z_log_var), z_val[1,:].shape, z_sample.shape"
      ],
      "execution_count": 0,
      "outputs": [
        {
          "output_type": "execute_result",
          "data": {
            "text/plain": [
              "(-5.628181, 0.0616922, (10,), (10,))"
            ]
          },
          "metadata": {
            "tags": []
          },
          "execution_count": 40
        }
      ]
    }
  ]
}